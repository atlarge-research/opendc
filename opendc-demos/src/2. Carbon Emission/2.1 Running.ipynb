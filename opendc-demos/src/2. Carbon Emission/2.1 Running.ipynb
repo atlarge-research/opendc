{
 "cells": [
  {
   "cell_type": "markdown",
   "metadata": {},
   "source": [
    "# Running the Experiment\n",
    "In this demo, we are going to investigate the effect of the location of a datacenter on its carbon footprint. \n",
    "The same data center is placed in four different locations; Belgium, Germany, Netherlands, and France. \n",
    "Because they are getting their energy from different sources, their carbon emission is different. This demo is based on the work done for the workshop paper `FootPrinter: Quantifying Data Center Carbon Footprint` which can found [here](https://atlarge-research.com/pdfs/2024-hotcloud-footprinter.pdf).\n",
    "\n",
    "Running this demo requires OpenDC. Download the latest release [here](https://github.com/atlarge-research/opendc/releases) and put it in this folder."
   ]
  },
  {
   "cell_type": "markdown",
   "metadata": {},
   "source": [
    "## 1. Carbon Footprint\n",
    "\n",
    "With the rise of high-computational workloads, such as Artificial Intelligence, datacenters are using a lot of energy. Because of this datacenters have become increasingly large contributors to the global footprint. A common definition of the carbon footprint of a datacenter is its total carbon emissions. In this demo, we are looking at the operational carbon emission of a datacenter. Operational carbon is all carbon that is emitted when producing the energy required to run a workload. \n",
    "\n",
    "### Carbon Intensity\n",
    "Determining the operational carbon emission of a datacenter requires more than just the energy used. Equally important is the source of the energy. Using energy from non-green sources, such as coal, can emit up to 20x times as much carbon as green energy, such as solar. Carbon Intensity defines the amount of carbon emitted per unit of energy. Multiplying the energy usage of the energy by the carbon intensity of the energy source determines the carbon emission.   \n",
    "\n",
    "Green energy is primarily gained from natural phenomena, such as wind or sunlight. This results in a continuously changing mix of available energy. This means the carbon intensity, even at the same location, is rarely stable over a long period of time. Below, we see the carbon intensity of the Dutch energy grid during a period of a week:\n",
    "\n",
    "![Carbon Intenisity](figures/energy_combined.png)\n",
    "Figure taken from  [FootPrinter](https://atlarge-research.com/pdfs/2024-hotcloud-footprinter.pdf\")\n",
    "\n",
    "Due to the fluctuating availability of green energy (the Netherlands relies on solar and wind) there is a large variation in carbon intensity over time. This shows that to reduce the carbon emissions it is not just important to reduce energy usage, but also when and where tasks are executed."
   ]
  },
  {
   "cell_type": "markdown",
   "metadata": {},
   "source": [
    "## 2. Carbon Traces\n",
    "\n",
    "OpenDC can determine the carbon emission of a datacenter when provided a carbon trace. \n",
    "Carbon traces define the carbon intensity of the energy in a specific region during a particular time period.  \n",
    "Historical carbon traces can be collected from services such as [entsoe-e](https://www.entsoe.eu/) or [electricitymaps](https://www.electricitymaps.com/). \n",
    "\n",
    "Carbon traces are saved as parquet files. Lets see how they look."
   ]
  },
  {
   "cell_type": "code",
   "execution_count": 7,
   "metadata": {},
   "outputs": [],
   "source": [
    "import pandas as pd\n",
    "\n",
    "df_carbon = pd.read_parquet(\"carbon_traces/BE_2021-2024.parquet\")"
   ]
  },
  {
   "cell_type": "code",
   "execution_count": 8,
   "metadata": {},
   "outputs": [
    {
     "data": {
      "text/html": [
       "<div>\n",
       "<style scoped>\n",
       "    .dataframe tbody tr th:only-of-type {\n",
       "        vertical-align: middle;\n",
       "    }\n",
       "\n",
       "    .dataframe tbody tr th {\n",
       "        vertical-align: top;\n",
       "    }\n",
       "\n",
       "    .dataframe thead th {\n",
       "        text-align: right;\n",
       "    }\n",
       "</style>\n",
       "<table border=\"1\" class=\"dataframe\">\n",
       "  <thead>\n",
       "    <tr style=\"text-align: right;\">\n",
       "      <th></th>\n",
       "      <th>timestamp</th>\n",
       "      <th>carbon_intensity</th>\n",
       "    </tr>\n",
       "  </thead>\n",
       "  <tbody>\n",
       "    <tr>\n",
       "      <th>0</th>\n",
       "      <td>2021-01-01 00:00:00</td>\n",
       "      <td>254.44</td>\n",
       "    </tr>\n",
       "    <tr>\n",
       "      <th>1</th>\n",
       "      <td>2021-01-01 01:00:00</td>\n",
       "      <td>247.21</td>\n",
       "    </tr>\n",
       "    <tr>\n",
       "      <th>2</th>\n",
       "      <td>2021-01-01 02:00:00</td>\n",
       "      <td>219.78</td>\n",
       "    </tr>\n",
       "    <tr>\n",
       "      <th>3</th>\n",
       "      <td>2021-01-01 03:00:00</td>\n",
       "      <td>191.87</td>\n",
       "    </tr>\n",
       "    <tr>\n",
       "      <th>4</th>\n",
       "      <td>2021-01-01 04:00:00</td>\n",
       "      <td>211.01</td>\n",
       "    </tr>\n",
       "  </tbody>\n",
       "</table>\n",
       "</div>"
      ],
      "text/plain": [
       "            timestamp  carbon_intensity\n",
       "0 2021-01-01 00:00:00            254.44\n",
       "1 2021-01-01 01:00:00            247.21\n",
       "2 2021-01-01 02:00:00            219.78\n",
       "3 2021-01-01 03:00:00            191.87\n",
       "4 2021-01-01 04:00:00            211.01"
      ]
     },
     "execution_count": 8,
     "metadata": {},
     "output_type": "execute_result"
    }
   ],
   "source": [
    "df_carbon.head()"
   ]
  },
  {
   "cell_type": "markdown",
   "metadata": {},
   "source": [
    "A carbon trace contains a large number of samples containing a timestamp and carbon intensity. During simulation, OpenDC matches the simulation time with the closest sample time. \n",
    "\n",
    "**Note**: OpenDC will always try to match to a sample. If the simulation exceeds the range of the carbon trace, it will select the first or last sample. "
   ]
  },
  {
   "cell_type": "markdown",
   "metadata": {},
   "source": [
    "## 3. Defining Topologies\n",
    "\n",
    "Carbon traces are activated by the user in the `topology` file in the `powerSource` variable.\n",
    "The following is a topology that is connected to the Belgium energy grid: \n",
    "\n",
    "```json\n",
    "{\n",
    "    \"clusters\": [\n",
    "        {\n",
    "            \"name\": \"C01\",\n",
    "            \"hosts\": [\n",
    "                {\n",
    "                    \"name\": \"H01\",\n",
    "                    \"cpu\": {\n",
    "                        \"coreCount\": 16,\n",
    "                        \"coreSpeed\": 2100\n",
    "                    },\n",
    "                    \"memory\": {\n",
    "                        \"memorySize\": 100000\n",
    "                    },\n",
    "                    \"powerModel\": {\n",
    "                        \"modelType\": \"sqrt\",\n",
    "                        \"power\": 400.0,\n",
    "                        \"idlePower\": 32.0,\n",
    "                        \"maxPower\": 180.0\n",
    "                    },\n",
    "                    \"count\": 277\n",
    "                }\n",
    "            ],\n",
    "            \"powerSource\": {\n",
    "                \"carbonTracePath\": \"carbon_traces/BE_2021-2024.parquet\"\n",
    "            }\n",
    "        }\n",
    "    ]\n",
    "}\n",
    "```\n",
    "\n",
    "First we see that the datacenter has 277 nodes containing a 16 core CPU. \n",
    "Next, we see that the `carbonTracePath` of the `powerSource` is pointed to the Belgium carbon trace.  \n",
    "\n",
    "Similarly, we can create topologies for the three other contries. See the topologies of [Germany](topologies/surfsara_DE.json), [France](topologies/surfsara_FR.json), and [Netherlands](topologies/surfsara_NL.json)"
   ]
  },
  {
   "cell_type": "markdown",
   "metadata": {},
   "source": [
    "## 4. Executing the experiment\n",
    "\n",
    "In this tutorial we want to investigate the impact of the location of a data center on its carbon footprint.\n",
    "We have defined four `topologies` that are connected to different `carbon traces`. We want to run the same workload using the different `topologies`. This can be done using the following `experiment` file:\n",
    "\n",
    "```json\n",
    "{\n",
    "    \"name\": \"carbon\",\n",
    "    \"topologies\": [\n",
    "        {\n",
    "            \"pathToFile\": \"topologies/surfsara_BE.json\"\n",
    "        },\n",
    "        {\n",
    "            \"pathToFile\": \"topologies/surfsara_DE.json\"\n",
    "        },        \n",
    "        {\n",
    "            \"pathToFile\": \"topologies/surfsara_FR.json\"\n",
    "        },        \n",
    "        {\n",
    "            \"pathToFile\": \"topologies/surfsara_NL.json\"\n",
    "        }\n",
    "    ],\n",
    "    \"workloads\": [\n",
    "        {\n",
    "            \"pathToFile\": \"workload_traces/surf_month\",\n",
    "            \"type\": \"ComputeWorkload\"\n",
    "        }\n",
    "    ],\n",
    "    \"exportModels\": [\n",
    "        {\n",
    "            \"exportInterval\": 3600,\n",
    "            \"printFrequency\": 168,\n",
    "            \"filesToExport\": [\n",
    "                \"host\",\n",
    "                \"powerSource\",\n",
    "                \"service\",\n",
    "                \"task\"\n",
    "            ]\n",
    "        }\n",
    "    ]\n",
    "}\n",
    "```\n",
    "\n",
    "Running this `experiment`, will run four simulations, one for each topologies. All four simulations will run a month long workload trace based on the surf LISA computer. \n",
    "\n",
    "\n",
    "The experiment can be executed directly from the terminal. While running the experiment, OpenDC periodically prints information about the status of the simulation. In this experiment, OpenDC prints every week, but this can be changes using the `exportModel`."
   ]
  },
  {
   "cell_type": "code",
   "execution_count": 9,
   "metadata": {},
   "outputs": [
    {
     "name": "stdout",
     "output_type": "stream",
     "text": [
      "\n",
      "\n",
      "\u001b[32m================================================================================\u001b[0m\n",
      "\u001b[34m Running scenario: 0 \u001b[0m\n",
      "\u001b[32m================================================================================\u001b[0m\n",
      "\u001b[34m Starting seed: 0 \u001b[0m\n"
     ]
    },
    {
     "name": "stderr",
     "output_type": "stream",
     "text": [
      "Simulating...   0% [                                       ] 0/4 (0:00:00 / ?) "
     ]
    },
    {
     "name": "stdout",
     "output_type": "stream",
     "text": [
      "12:18:37.303 [\u001b[33mWARN \u001b[m] org.opendc.compute.simulator.telemetry.ComputeMetricReader - \n",
      "\t\t\t\t\tMetrics after 168 hours:\n",
      "\t\t\t\t\t\tTasks Total: 21607\n",
      "\t\t\t\t\t\tTasks Active: 124\n",
      "\t\t\t\t\t\tTasks Pending: 0\n",
      "\t\t\t\t\t\tTasks Completed: 21483\n",
      "\t\t\t\t\t\tTasks Terminated: 0\n",
      "\n",
      "12:18:38.659 [\u001b[33mWARN \u001b[m] org.opendc.compute.simulator.telemetry.ComputeMetricReader - \n",
      "\t\t\t\t\tMetrics after 336 hours:\n",
      "\t\t\t\t\t\tTasks Total: 30276\n",
      "\t\t\t\t\t\tTasks Active: 114\n",
      "\t\t\t\t\t\tTasks Pending: 0\n",
      "\t\t\t\t\t\tTasks Completed: 30162\n",
      "\t\t\t\t\t\tTasks Terminated: 0\n",
      "\n",
      "12:18:40.212 [\u001b[33mWARN \u001b[m] org.opendc.compute.simulator.telemetry.ComputeMetricReader - \n",
      "\t\t\t\t\tMetrics after 504 hours:\n",
      "\t\t\t\t\t\tTasks Total: 58339\n",
      "\t\t\t\t\t\tTasks Active: 145\n",
      "\t\t\t\t\t\tTasks Pending: 0\n",
      "\t\t\t\t\t\tTasks Completed: 58194\n",
      "\t\t\t\t\t\tTasks Terminated: 0\n",
      "\n",
      "12:18:41.502 [\u001b[33mWARN \u001b[m] org.opendc.compute.simulator.telemetry.ComputeMetricReader - \n",
      "\t\t\t\t\tMetrics after 672 hours:\n",
      "\t\t\t\t\t\tTasks Total: 66103\n",
      "\t\t\t\t\t\tTasks Active: 228\n",
      "\t\t\t\t\t\tTasks Pending: 0\n",
      "\t\t\t\t\t\tTasks Completed: 65875\n",
      "\t\t\t\t\t\tTasks Terminated: 0\n",
      "\n",
      "\n",
      "\n",
      "\u001b[32m================================================================================\u001b[0m\n",
      "\u001b[34m Running scenario: 1 \u001b[0m\n",
      "\u001b[32m================================================================================\u001b[0m\n",
      "\u001b[34m Starting seed: 0 \u001b[0m\n"
     ]
    },
    {
     "name": "stderr",
     "output_type": "stream",
     "text": [
      "Simulating...  25% [========                         ] 1/4 (0:00:10 / 0:00:30) "
     ]
    },
    {
     "name": "stdout",
     "output_type": "stream",
     "text": [
      "12:18:45.457 [\u001b[33mWARN \u001b[m] org.opendc.compute.simulator.telemetry.ComputeMetricReader - \n",
      "\t\t\t\t\tMetrics after 168 hours:\n",
      "\t\t\t\t\t\tTasks Total: 21607\n",
      "\t\t\t\t\t\tTasks Active: 124\n",
      "\t\t\t\t\t\tTasks Pending: 0\n",
      "\t\t\t\t\t\tTasks Completed: 21483\n",
      "\t\t\t\t\t\tTasks Terminated: 0\n",
      "\n",
      "12:18:46.375 [\u001b[33mWARN \u001b[m] org.opendc.compute.simulator.telemetry.ComputeMetricReader - \n",
      "\t\t\t\t\tMetrics after 336 hours:\n",
      "\t\t\t\t\t\tTasks Total: 30276\n",
      "\t\t\t\t\t\tTasks Active: 114\n",
      "\t\t\t\t\t\tTasks Pending: 0\n",
      "\t\t\t\t\t\tTasks Completed: 30162\n",
      "\t\t\t\t\t\tTasks Terminated: 0\n",
      "\n",
      "12:18:47.487 [\u001b[33mWARN \u001b[m] org.opendc.compute.simulator.telemetry.ComputeMetricReader - \n",
      "\t\t\t\t\tMetrics after 504 hours:\n",
      "\t\t\t\t\t\tTasks Total: 58339\n",
      "\t\t\t\t\t\tTasks Active: 145\n",
      "\t\t\t\t\t\tTasks Pending: 0\n",
      "\t\t\t\t\t\tTasks Completed: 58194\n",
      "\t\t\t\t\t\tTasks Terminated: 0\n",
      "\n",
      "12:18:48.382 [\u001b[33mWARN \u001b[m] org.opendc.compute.simulator.telemetry.ComputeMetricReader - \n",
      "\t\t\t\t\tMetrics after 672 hours:\n",
      "\t\t\t\t\t\tTasks Total: 66103\n",
      "\t\t\t\t\t\tTasks Active: 228\n",
      "\t\t\t\t\t\tTasks Pending: 0\n",
      "\t\t\t\t\t\tTasks Completed: 65875\n",
      "\t\t\t\t\t\tTasks Terminated: 0\n",
      "\n",
      "\n",
      "\n",
      "\u001b[32m================================================================================\u001b[0m\n",
      "\u001b[34m Running scenario: 2 \u001b[0m\n",
      "\u001b[32m================================================================================\u001b[0m\n",
      "\u001b[34m Starting seed: 0 \u001b[0m\n"
     ]
    },
    {
     "name": "stderr",
     "output_type": "stream",
     "text": [
      "Simulating...  50% [================                 ] 2/4 (0:00:17 / 0:00:17) "
     ]
    },
    {
     "name": "stdout",
     "output_type": "stream",
     "text": [
      "12:18:51.612 [\u001b[33mWARN \u001b[m] org.opendc.compute.simulator.telemetry.ComputeMetricReader - \n",
      "\t\t\t\t\tMetrics after 168 hours:\n",
      "\t\t\t\t\t\tTasks Total: 21607\n",
      "\t\t\t\t\t\tTasks Active: 124\n",
      "\t\t\t\t\t\tTasks Pending: 0\n",
      "\t\t\t\t\t\tTasks Completed: 21483\n",
      "\t\t\t\t\t\tTasks Terminated: 0\n",
      "\n",
      "12:18:52.377 [\u001b[33mWARN \u001b[m] org.opendc.compute.simulator.telemetry.ComputeMetricReader - \n",
      "\t\t\t\t\tMetrics after 336 hours:\n",
      "\t\t\t\t\t\tTasks Total: 30276\n",
      "\t\t\t\t\t\tTasks Active: 114\n",
      "\t\t\t\t\t\tTasks Pending: 0\n",
      "\t\t\t\t\t\tTasks Completed: 30162\n",
      "\t\t\t\t\t\tTasks Terminated: 0\n",
      "\n",
      "12:18:53.505 [\u001b[33mWARN \u001b[m] org.opendc.compute.simulator.telemetry.ComputeMetricReader - \n",
      "\t\t\t\t\tMetrics after 504 hours:\n",
      "\t\t\t\t\t\tTasks Total: 58339\n",
      "\t\t\t\t\t\tTasks Active: 145\n",
      "\t\t\t\t\t\tTasks Pending: 0\n",
      "\t\t\t\t\t\tTasks Completed: 58194\n",
      "\t\t\t\t\t\tTasks Terminated: 0\n",
      "\n",
      "12:18:54.466 [\u001b[33mWARN \u001b[m] org.opendc.compute.simulator.telemetry.ComputeMetricReader - \n",
      "\t\t\t\t\tMetrics after 672 hours:\n",
      "\t\t\t\t\t\tTasks Total: 66103\n",
      "\t\t\t\t\t\tTasks Active: 228\n",
      "\t\t\t\t\t\tTasks Pending: 0\n",
      "\t\t\t\t\t\tTasks Completed: 65875\n",
      "\t\t\t\t\t\tTasks Terminated: 0\n",
      "\n",
      "\n",
      "\n",
      "\u001b[32m================================================================================\u001b[0m\n",
      "\u001b[34m Running scenario: 3 \u001b[0m\n",
      "\u001b[32m================================================================================\u001b[0m\n",
      "\u001b[34m Starting seed: 0 \u001b[0m\n"
     ]
    },
    {
     "name": "stderr",
     "output_type": "stream",
     "text": [
      "Simulating...  75% [========================         ] 3/4 (0:00:23 / 0:00:07) "
     ]
    },
    {
     "name": "stdout",
     "output_type": "stream",
     "text": [
      "12:18:57.573 [\u001b[33mWARN \u001b[m] org.opendc.compute.simulator.telemetry.ComputeMetricReader - \n",
      "\t\t\t\t\tMetrics after 168 hours:\n",
      "\t\t\t\t\t\tTasks Total: 21607\n",
      "\t\t\t\t\t\tTasks Active: 124\n",
      "\t\t\t\t\t\tTasks Pending: 0\n",
      "\t\t\t\t\t\tTasks Completed: 21483\n",
      "\t\t\t\t\t\tTasks Terminated: 0\n",
      "\n",
      "12:18:58.432 [\u001b[33mWARN \u001b[m] org.opendc.compute.simulator.telemetry.ComputeMetricReader - \n",
      "\t\t\t\t\tMetrics after 336 hours:\n",
      "\t\t\t\t\t\tTasks Total: 30276\n",
      "\t\t\t\t\t\tTasks Active: 114\n",
      "\t\t\t\t\t\tTasks Pending: 0\n",
      "\t\t\t\t\t\tTasks Completed: 30162\n",
      "\t\t\t\t\t\tTasks Terminated: 0\n",
      "\n",
      "12:18:59.582 [\u001b[33mWARN \u001b[m] org.opendc.compute.simulator.telemetry.ComputeMetricReader - \n",
      "\t\t\t\t\tMetrics after 504 hours:\n",
      "\t\t\t\t\t\tTasks Total: 58339\n",
      "\t\t\t\t\t\tTasks Active: 145\n",
      "\t\t\t\t\t\tTasks Pending: 0\n",
      "\t\t\t\t\t\tTasks Completed: 58194\n",
      "\t\t\t\t\t\tTasks Terminated: 0\n",
      "\n",
      "12:19:00.543 [\u001b[33mWARN \u001b[m] org.opendc.compute.simulator.telemetry.ComputeMetricReader - \n",
      "\t\t\t\t\tMetrics after 672 hours:\n",
      "\t\t\t\t\t\tTasks Total: 66103\n",
      "\t\t\t\t\t\tTasks Active: 228\n",
      "\t\t\t\t\t\tTasks Pending: 0\n",
      "\t\t\t\t\t\tTasks Completed: 65875\n",
      "\t\t\t\t\t\tTasks Terminated: 0\n",
      "\n"
     ]
    },
    {
     "name": "stderr",
     "output_type": "stream",
     "text": [
      "Simulating... 100% [=================================] 4/4 (0:00:28 / 0:00:00) \n"
     ]
    },
    {
     "data": {
      "text/plain": [
       "CompletedProcess(args=['OpenDCExperimentRunner/bin/OpenDCExperimentRunner', '--experiment-path', 'experiments/carbon_experiment.json'], returncode=0)"
      ]
     },
     "execution_count": 9,
     "metadata": {},
     "output_type": "execute_result"
    }
   ],
   "source": [
    "import subprocess\n",
    "\n",
    "pathToScenario = \"experiments/carbon_experiment.json\"\n",
    "subprocess.run([\"OpenDCExperimentRunner/bin/OpenDCExperimentRunner\", \"--experiment-path\", pathToScenario])"
   ]
  },
  {
   "cell_type": "markdown",
   "metadata": {},
   "source": [
    "Running the simulation has created the `output` folder containing information about the experiment. \n",
    "In the next part we will use these files for analysis and vizualization."
   ]
  }
 ],
 "metadata": {
  "kernelspec": {
   "display_name": "opendc",
   "language": "python",
   "name": "python3"
  },
  "language_info": {
   "codemirror_mode": {
    "name": "ipython",
    "version": 3
   },
   "file_extension": ".py",
   "mimetype": "text/x-python",
   "name": "python",
   "nbconvert_exporter": "python",
   "pygments_lexer": "ipython3",
   "version": "3.12.3"
  }
 },
 "nbformat": 4,
 "nbformat_minor": 4
}
