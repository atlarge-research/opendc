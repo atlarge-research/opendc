{
 "cells": [
  {
   "cell_type": "code",
   "execution_count": 1,
   "id": "18170001",
   "metadata": {},
   "outputs": [],
   "source": [
    "import numpy as np\n",
    "import pandas as pd\n",
    "import matplotlib.pyplot as plt\n",
    "\n",
    "from IPython.display import display, HTML\n",
    "\n",
    "base_folder = \"../../../../..\""
   ]
  },
  {
   "cell_type": "markdown",
   "id": "422f4d05",
   "metadata": {},
   "source": [
    "## Topologies"
   ]
  },
  {
   "cell_type": "code",
   "execution_count": 2,
   "id": "a2d05361",
   "metadata": {},
   "outputs": [
    {
     "name": "stdout",
     "output_type": "stream",
     "text": [
      "Topology name: multi\n"
     ]
    },
    {
     "data": {
      "text/html": [
       "<table border=\"1\" class=\"dataframe\">\n",
       "  <thead>\n",
       "    <tr style=\"text-align: right;\">\n",
       "      <th></th>\n",
       "      <th>ClusterID</th>\n",
       "      <th>ClusterName</th>\n",
       "      <th>Cores</th>\n",
       "      <th>Speed</th>\n",
       "      <th>Memory</th>\n",
       "      <th>numberOfHosts</th>\n",
       "      <th>memoryCapacityPerHost</th>\n",
       "      <th>coreCountPerHost</th>\n",
       "    </tr>\n",
       "  </thead>\n",
       "  <tbody>\n",
       "    <tr>\n",
       "      <th>0</th>\n",
       "      <td>A01</td>\n",
       "      <td>A01</td>\n",
       "      <td>32</td>\n",
       "      <td>3.20</td>\n",
       "      <td>2048</td>\n",
       "      <td>1</td>\n",
       "      <td>256</td>\n",
       "      <td>32</td>\n",
       "    </tr>\n",
       "    <tr>\n",
       "      <th>1</th>\n",
       "      <td>B01</td>\n",
       "      <td>B01</td>\n",
       "      <td>48</td>\n",
       "      <td>2.93</td>\n",
       "      <td>1256</td>\n",
       "      <td>6</td>\n",
       "      <td>64</td>\n",
       "      <td>8</td>\n",
       "    </tr>\n",
       "    <tr>\n",
       "      <th>2</th>\n",
       "      <td>C01</td>\n",
       "      <td>C01</td>\n",
       "      <td>32</td>\n",
       "      <td>3.20</td>\n",
       "      <td>2048</td>\n",
       "      <td>2</td>\n",
       "      <td>128</td>\n",
       "      <td>16</td>\n",
       "    </tr>\n",
       "  </tbody>\n",
       "</table>"
      ],
      "text/plain": [
       "<IPython.core.display.HTML object>"
      ]
     },
     "metadata": {},
     "output_type": "display_data"
    },
    {
     "name": "stdout",
     "output_type": "stream",
     "text": [
      "Topology name: single\n"
     ]
    },
    {
     "data": {
      "text/html": [
       "<table border=\"1\" class=\"dataframe\">\n",
       "  <thead>\n",
       "    <tr style=\"text-align: right;\">\n",
       "      <th></th>\n",
       "      <th>ClusterID</th>\n",
       "      <th>ClusterName</th>\n",
       "      <th>Cores</th>\n",
       "      <th>Speed</th>\n",
       "      <th>Memory</th>\n",
       "      <th>numberOfHosts</th>\n",
       "      <th>memoryCapacityPerHost</th>\n",
       "      <th>coreCountPerHost</th>\n",
       "    </tr>\n",
       "  </thead>\n",
       "  <tbody>\n",
       "    <tr>\n",
       "      <th>0</th>\n",
       "      <td>A01</td>\n",
       "      <td>A01</td>\n",
       "      <td>8</td>\n",
       "      <td>3.2</td>\n",
       "      <td>128</td>\n",
       "      <td>1</td>\n",
       "      <td>128</td>\n",
       "      <td>8</td>\n",
       "    </tr>\n",
       "  </tbody>\n",
       "</table>"
      ],
      "text/plain": [
       "<IPython.core.display.HTML object>"
      ]
     },
     "metadata": {},
     "output_type": "display_data"
    }
   ],
   "source": [
    "def read_topology(topology_name):\n",
    "    print(f\"Topology name: {topology_name}\")\n",
    "    df = pd.read_csv(f\"{base_folder}/resources/env/{topology_name}.txt\", delimiter=\";\")\n",
    "    display(HTML(df.to_html()))\n",
    "        \n",
    "read_topology(\"multi\")\n",
    "read_topology(\"single\")"
   ]
  },
  {
   "cell_type": "markdown",
   "id": "8f4fe54d",
   "metadata": {},
   "source": [
    "## Traces"
   ]
  },
  {
   "cell_type": "code",
   "execution_count": 3,
   "id": "fd17d88a",
   "metadata": {},
   "outputs": [
    {
     "data": {
      "text/html": [
       "<div>\n",
       "<style scoped>\n",
       "    .dataframe tbody tr th:only-of-type {\n",
       "        vertical-align: middle;\n",
       "    }\n",
       "\n",
       "    .dataframe tbody tr th {\n",
       "        vertical-align: top;\n",
       "    }\n",
       "\n",
       "    .dataframe thead th {\n",
       "        text-align: right;\n",
       "    }\n",
       "</style>\n",
       "<table border=\"1\" class=\"dataframe\">\n",
       "  <thead>\n",
       "    <tr style=\"text-align: right;\">\n",
       "      <th></th>\n",
       "      <th>id</th>\n",
       "      <th>timestamp</th>\n",
       "      <th>duration</th>\n",
       "      <th>cpu_count</th>\n",
       "      <th>cpu_usage</th>\n",
       "    </tr>\n",
       "  </thead>\n",
       "  <tbody>\n",
       "    <tr>\n",
       "      <th>0</th>\n",
       "      <td>1019</td>\n",
       "      <td>2013-08-12 13:40:46+00:00</td>\n",
       "      <td>300000</td>\n",
       "      <td>1</td>\n",
       "      <td>0.000000</td>\n",
       "    </tr>\n",
       "    <tr>\n",
       "      <th>24015</th>\n",
       "      <td>1129</td>\n",
       "      <td>2013-08-12 13:40:46+00:00</td>\n",
       "      <td>300000</td>\n",
       "      <td>1</td>\n",
       "      <td>3.901332</td>\n",
       "    </tr>\n",
       "    <tr>\n",
       "      <th>34039</th>\n",
       "      <td>1138</td>\n",
       "      <td>2013-08-12 13:40:46+00:00</td>\n",
       "      <td>300000</td>\n",
       "      <td>1</td>\n",
       "      <td>20.799994</td>\n",
       "    </tr>\n",
       "    <tr>\n",
       "      <th>41348</th>\n",
       "      <td>1147</td>\n",
       "      <td>2013-08-12 13:40:46+00:00</td>\n",
       "      <td>300000</td>\n",
       "      <td>1</td>\n",
       "      <td>0.000000</td>\n",
       "    </tr>\n",
       "    <tr>\n",
       "      <th>47515</th>\n",
       "      <td>1152</td>\n",
       "      <td>2013-08-12 13:40:46+00:00</td>\n",
       "      <td>300000</td>\n",
       "      <td>1</td>\n",
       "      <td>0.000000</td>\n",
       "    </tr>\n",
       "    <tr>\n",
       "      <th>53661</th>\n",
       "      <td>116</td>\n",
       "      <td>2013-08-12 13:40:46+00:00</td>\n",
       "      <td>300000</td>\n",
       "      <td>4</td>\n",
       "      <td>158.003968</td>\n",
       "    </tr>\n",
       "    <tr>\n",
       "      <th>61559</th>\n",
       "      <td>141</td>\n",
       "      <td>2013-08-12 13:40:46+00:00</td>\n",
       "      <td>300000</td>\n",
       "      <td>2</td>\n",
       "      <td>56.569320</td>\n",
       "    </tr>\n",
       "    <tr>\n",
       "      <th>66380</th>\n",
       "      <td>190</td>\n",
       "      <td>2013-08-12 13:40:46+00:00</td>\n",
       "      <td>300000</td>\n",
       "      <td>8</td>\n",
       "      <td>14693.462756</td>\n",
       "    </tr>\n",
       "    <tr>\n",
       "      <th>73300</th>\n",
       "      <td>205</td>\n",
       "      <td>2013-08-12 13:40:46+00:00</td>\n",
       "      <td>300000</td>\n",
       "      <td>8</td>\n",
       "      <td>16185.864295</td>\n",
       "    </tr>\n",
       "    <tr>\n",
       "      <th>87698</th>\n",
       "      <td>244</td>\n",
       "      <td>2013-08-12 13:40:46+00:00</td>\n",
       "      <td>300000</td>\n",
       "      <td>8</td>\n",
       "      <td>95.333296</td>\n",
       "    </tr>\n",
       "    <tr>\n",
       "      <th>95284</th>\n",
       "      <td>272</td>\n",
       "      <td>2013-08-12 13:40:46+00:00</td>\n",
       "      <td>300000</td>\n",
       "      <td>8</td>\n",
       "      <td>164.666623</td>\n",
       "    </tr>\n",
       "    <tr>\n",
       "      <th>112192</th>\n",
       "      <td>323</td>\n",
       "      <td>2013-08-12 13:40:46+00:00</td>\n",
       "      <td>300000</td>\n",
       "      <td>2</td>\n",
       "      <td>152.533273</td>\n",
       "    </tr>\n",
       "    <tr>\n",
       "      <th>125958</th>\n",
       "      <td>378</td>\n",
       "      <td>2013-08-12 13:40:46+00:00</td>\n",
       "      <td>300000</td>\n",
       "      <td>2</td>\n",
       "      <td>76.266647</td>\n",
       "    </tr>\n",
       "    <tr>\n",
       "      <th>132745</th>\n",
       "      <td>379</td>\n",
       "      <td>2013-08-12 13:40:46+00:00</td>\n",
       "      <td>300000</td>\n",
       "      <td>2</td>\n",
       "      <td>109.199970</td>\n",
       "    </tr>\n",
       "    <tr>\n",
       "      <th>139492</th>\n",
       "      <td>449</td>\n",
       "      <td>2013-08-12 13:40:46+00:00</td>\n",
       "      <td>300000</td>\n",
       "      <td>4</td>\n",
       "      <td>154.266626</td>\n",
       "    </tr>\n",
       "    <tr>\n",
       "      <th>146840</th>\n",
       "      <td>463</td>\n",
       "      <td>2013-08-12 13:40:46+00:00</td>\n",
       "      <td>300000</td>\n",
       "      <td>4</td>\n",
       "      <td>131.733298</td>\n",
       "    </tr>\n",
       "    <tr>\n",
       "      <th>153699</th>\n",
       "      <td>466</td>\n",
       "      <td>2013-08-12 13:40:46+00:00</td>\n",
       "      <td>300000</td>\n",
       "      <td>4</td>\n",
       "      <td>131.733300</td>\n",
       "    </tr>\n",
       "    <tr>\n",
       "      <th>160537</th>\n",
       "      <td>467</td>\n",
       "      <td>2013-08-12 13:40:46+00:00</td>\n",
       "      <td>300000</td>\n",
       "      <td>4</td>\n",
       "      <td>185.466617</td>\n",
       "    </tr>\n",
       "    <tr>\n",
       "      <th>167694</th>\n",
       "      <td>501</td>\n",
       "      <td>2013-08-12 13:40:46+00:00</td>\n",
       "      <td>300000</td>\n",
       "      <td>4</td>\n",
       "      <td>157.733310</td>\n",
       "    </tr>\n",
       "    <tr>\n",
       "      <th>174746</th>\n",
       "      <td>506</td>\n",
       "      <td>2013-08-12 13:40:46+00:00</td>\n",
       "      <td>300000</td>\n",
       "      <td>4</td>\n",
       "      <td>183.733284</td>\n",
       "    </tr>\n",
       "    <tr>\n",
       "      <th>182064</th>\n",
       "      <td>550</td>\n",
       "      <td>2013-08-12 13:40:46+00:00</td>\n",
       "      <td>300000</td>\n",
       "      <td>1</td>\n",
       "      <td>1.733333</td>\n",
       "    </tr>\n",
       "    <tr>\n",
       "      <th>196282</th>\n",
       "      <td>607</td>\n",
       "      <td>2013-08-12 13:40:46+00:00</td>\n",
       "      <td>300000</td>\n",
       "      <td>1</td>\n",
       "      <td>247.866604</td>\n",
       "    </tr>\n",
       "    <tr>\n",
       "      <th>203796</th>\n",
       "      <td>626</td>\n",
       "      <td>2013-08-12 13:40:46+00:00</td>\n",
       "      <td>300000</td>\n",
       "      <td>4</td>\n",
       "      <td>10718.931688</td>\n",
       "    </tr>\n",
       "    <tr>\n",
       "      <th>206960</th>\n",
       "      <td>636</td>\n",
       "      <td>2013-08-12 13:40:46+00:00</td>\n",
       "      <td>300000</td>\n",
       "      <td>4</td>\n",
       "      <td>10781.331724</td>\n",
       "    </tr>\n",
       "    <tr>\n",
       "      <th>209842</th>\n",
       "      <td>677</td>\n",
       "      <td>2013-08-12 13:40:46+00:00</td>\n",
       "      <td>300000</td>\n",
       "      <td>2</td>\n",
       "      <td>181.999951</td>\n",
       "    </tr>\n",
       "    <tr>\n",
       "      <th>225939</th>\n",
       "      <td>740</td>\n",
       "      <td>2013-08-12 13:40:46+00:00</td>\n",
       "      <td>300000</td>\n",
       "      <td>32</td>\n",
       "      <td>2048.399624</td>\n",
       "    </tr>\n",
       "    <tr>\n",
       "      <th>234340</th>\n",
       "      <td>750</td>\n",
       "      <td>2013-08-12 13:40:46+00:00</td>\n",
       "      <td>300000</td>\n",
       "      <td>8</td>\n",
       "      <td>145.599961</td>\n",
       "    </tr>\n",
       "    <tr>\n",
       "      <th>252091</th>\n",
       "      <td>851</td>\n",
       "      <td>2013-08-12 13:40:46+00:00</td>\n",
       "      <td>300000</td>\n",
       "      <td>2</td>\n",
       "      <td>29.259993</td>\n",
       "    </tr>\n",
       "    <tr>\n",
       "      <th>256754</th>\n",
       "      <td>871</td>\n",
       "      <td>2013-08-12 13:40:46+00:00</td>\n",
       "      <td>300000</td>\n",
       "      <td>4</td>\n",
       "      <td>158.003974</td>\n",
       "    </tr>\n",
       "    <tr>\n",
       "      <th>265560</th>\n",
       "      <td>957</td>\n",
       "      <td>2013-08-12 13:40:46+00:00</td>\n",
       "      <td>300000</td>\n",
       "      <td>4</td>\n",
       "      <td>128.266613</td>\n",
       "    </tr>\n",
       "    <tr>\n",
       "      <th>268345</th>\n",
       "      <td>997</td>\n",
       "      <td>2013-08-12 13:40:46+00:00</td>\n",
       "      <td>300000</td>\n",
       "      <td>8</td>\n",
       "      <td>10235.198844</td>\n",
       "    </tr>\n",
       "  </tbody>\n",
       "</table>\n",
       "</div>"
      ],
      "text/plain": [
       "          id                 timestamp  duration  cpu_count     cpu_usage\n",
       "0       1019 2013-08-12 13:40:46+00:00    300000          1      0.000000\n",
       "24015   1129 2013-08-12 13:40:46+00:00    300000          1      3.901332\n",
       "34039   1138 2013-08-12 13:40:46+00:00    300000          1     20.799994\n",
       "41348   1147 2013-08-12 13:40:46+00:00    300000          1      0.000000\n",
       "47515   1152 2013-08-12 13:40:46+00:00    300000          1      0.000000\n",
       "53661    116 2013-08-12 13:40:46+00:00    300000          4    158.003968\n",
       "61559    141 2013-08-12 13:40:46+00:00    300000          2     56.569320\n",
       "66380    190 2013-08-12 13:40:46+00:00    300000          8  14693.462756\n",
       "73300    205 2013-08-12 13:40:46+00:00    300000          8  16185.864295\n",
       "87698    244 2013-08-12 13:40:46+00:00    300000          8     95.333296\n",
       "95284    272 2013-08-12 13:40:46+00:00    300000          8    164.666623\n",
       "112192   323 2013-08-12 13:40:46+00:00    300000          2    152.533273\n",
       "125958   378 2013-08-12 13:40:46+00:00    300000          2     76.266647\n",
       "132745   379 2013-08-12 13:40:46+00:00    300000          2    109.199970\n",
       "139492   449 2013-08-12 13:40:46+00:00    300000          4    154.266626\n",
       "146840   463 2013-08-12 13:40:46+00:00    300000          4    131.733298\n",
       "153699   466 2013-08-12 13:40:46+00:00    300000          4    131.733300\n",
       "160537   467 2013-08-12 13:40:46+00:00    300000          4    185.466617\n",
       "167694   501 2013-08-12 13:40:46+00:00    300000          4    157.733310\n",
       "174746   506 2013-08-12 13:40:46+00:00    300000          4    183.733284\n",
       "182064   550 2013-08-12 13:40:46+00:00    300000          1      1.733333\n",
       "196282   607 2013-08-12 13:40:46+00:00    300000          1    247.866604\n",
       "203796   626 2013-08-12 13:40:46+00:00    300000          4  10718.931688\n",
       "206960   636 2013-08-12 13:40:46+00:00    300000          4  10781.331724\n",
       "209842   677 2013-08-12 13:40:46+00:00    300000          2    181.999951\n",
       "225939   740 2013-08-12 13:40:46+00:00    300000         32   2048.399624\n",
       "234340   750 2013-08-12 13:40:46+00:00    300000          8    145.599961\n",
       "252091   851 2013-08-12 13:40:46+00:00    300000          2     29.259993\n",
       "256754   871 2013-08-12 13:40:46+00:00    300000          4    158.003974\n",
       "265560   957 2013-08-12 13:40:46+00:00    300000          4    128.266613\n",
       "268345   997 2013-08-12 13:40:46+00:00    300000          8  10235.198844"
      ]
     },
     "execution_count": 3,
     "metadata": {},
     "output_type": "execute_result"
    }
   ],
   "source": [
    "df_trace = pd.read_parquet(f\"{base_folder}/resources/bitbrains-small/trace/trace.parquet\")\n",
    "df_trace[df_trace[\"timestamp\"] == df_trace[\"timestamp\"].min()]"
   ]
  },
  {
   "cell_type": "code",
   "execution_count": 4,
   "id": "346f097f",
   "metadata": {
    "scrolled": true
   },
   "outputs": [
    {
     "data": {
      "text/html": [
       "<div>\n",
       "<style scoped>\n",
       "    .dataframe tbody tr th:only-of-type {\n",
       "        vertical-align: middle;\n",
       "    }\n",
       "\n",
       "    .dataframe tbody tr th {\n",
       "        vertical-align: top;\n",
       "    }\n",
       "\n",
       "    .dataframe thead th {\n",
       "        text-align: right;\n",
       "    }\n",
       "</style>\n",
       "<table border=\"1\" class=\"dataframe\">\n",
       "  <thead>\n",
       "    <tr style=\"text-align: right;\">\n",
       "      <th></th>\n",
       "      <th>id</th>\n",
       "      <th>start_time</th>\n",
       "      <th>stop_time</th>\n",
       "      <th>cpu_count</th>\n",
       "      <th>cpu_capacity</th>\n",
       "      <th>mem_capacity</th>\n",
       "    </tr>\n",
       "  </thead>\n",
       "  <tbody>\n",
       "    <tr>\n",
       "      <th>0</th>\n",
       "      <td>1019</td>\n",
       "      <td>2013-08-12 13:35:46+00:00</td>\n",
       "      <td>2013-09-11 13:39:58+00:00</td>\n",
       "      <td>1</td>\n",
       "      <td>2926.000135</td>\n",
       "      <td>181352</td>\n",
       "    </tr>\n",
       "    <tr>\n",
       "      <th>1</th>\n",
       "      <td>1023</td>\n",
       "      <td>2013-08-12 13:35:46+00:00</td>\n",
       "      <td>2013-09-11 13:39:58+00:00</td>\n",
       "      <td>1</td>\n",
       "      <td>2925.999560</td>\n",
       "      <td>260096</td>\n",
       "    </tr>\n",
       "    <tr>\n",
       "      <th>2</th>\n",
       "      <td>1026</td>\n",
       "      <td>2013-08-12 13:35:46+00:00</td>\n",
       "      <td>2013-09-11 13:39:58+00:00</td>\n",
       "      <td>1</td>\n",
       "      <td>2925.999717</td>\n",
       "      <td>249972</td>\n",
       "    </tr>\n",
       "    <tr>\n",
       "      <th>3</th>\n",
       "      <td>1052</td>\n",
       "      <td>2013-08-29 14:38:12+00:00</td>\n",
       "      <td>2013-09-05 07:09:07+00:00</td>\n",
       "      <td>1</td>\n",
       "      <td>2926.000107</td>\n",
       "      <td>131245</td>\n",
       "    </tr>\n",
       "    <tr>\n",
       "      <th>4</th>\n",
       "      <td>1073</td>\n",
       "      <td>2013-08-21 11:07:12+00:00</td>\n",
       "      <td>2013-09-11 13:39:58+00:00</td>\n",
       "      <td>1</td>\n",
       "      <td>2599.999649</td>\n",
       "      <td>179306</td>\n",
       "    </tr>\n",
       "  </tbody>\n",
       "</table>\n",
       "</div>"
      ],
      "text/plain": [
       "     id                start_time                 stop_time  cpu_count  \\\n",
       "0  1019 2013-08-12 13:35:46+00:00 2013-09-11 13:39:58+00:00          1   \n",
       "1  1023 2013-08-12 13:35:46+00:00 2013-09-11 13:39:58+00:00          1   \n",
       "2  1026 2013-08-12 13:35:46+00:00 2013-09-11 13:39:58+00:00          1   \n",
       "3  1052 2013-08-29 14:38:12+00:00 2013-09-05 07:09:07+00:00          1   \n",
       "4  1073 2013-08-21 11:07:12+00:00 2013-09-11 13:39:58+00:00          1   \n",
       "\n",
       "   cpu_capacity  mem_capacity  \n",
       "0   2926.000135        181352  \n",
       "1   2925.999560        260096  \n",
       "2   2925.999717        249972  \n",
       "3   2926.000107        131245  \n",
       "4   2599.999649        179306  "
      ]
     },
     "execution_count": 4,
     "metadata": {},
     "output_type": "execute_result"
    }
   ],
   "source": [
    "df_meta = pd.read_parquet(f\"{base_folder}/resources/bitbrains-small/trace/meta.parquet\")\n",
    "df_meta.head()"
   ]
  },
  {
   "cell_type": "markdown",
   "id": "13bf9fdb",
   "metadata": {},
   "source": [
    "# Lets run this in OpenDC!"
   ]
  },
  {
   "cell_type": "markdown",
   "id": "c9766446",
   "metadata": {},
   "source": [
    "## Resulting Files"
   ]
  },
  {
   "cell_type": "code",
   "execution_count": 89,
   "id": "0d400ffd",
   "metadata": {},
   "outputs": [],
   "source": [
    "output_folder = f\"{base_folder}/output\"\n",
    "workload = \"workload=bitbrains-small\"\n",
    "seed = \"seed=0\"\n",
    "\n",
    "df_host_single = pd.read_parquet(f\"{output_folder}/host/topology=single/{workload}/{seed}/data.parquet\")\n",
    "df_host_multi = pd.read_parquet(f\"{output_folder}/host/topology=multi/{workload}/{seed}/data.parquet\")\n",
    "\n",
    "df_server_single = pd.read_parquet(f\"{output_folder}/server/topology=single/{workload}/{seed}/data.parquet\")\n",
    "df_server_multi = pd.read_parquet(f\"{output_folder}/server/topology=multi/{workload}/{seed}/data.parquet\")\n",
    "\n",
    "df_service_single = pd.read_parquet(f\"{output_folder}/service/topology=single/{workload}/{seed}/data.parquet\")\n",
    "df_service_multi = pd.read_parquet(f\"{output_folder}/service/topology=multi/{workload}/{seed}/data.parquet\")\n",
    "\n",
    "def add_absolute_timestamp(df, start_dt):\n",
    "    df[\"absolute_timestamp\"] = start_dt + (df[\"timestamp\"] - df[\"timestamp\"].min())\n",
    "\n",
    "add_absolute_timestamp(df_host_single, df_meta[\"start_time\"].min())\n",
    "add_absolute_timestamp(df_host_single, df_meta[\"start_time\"].min())\n",
    "\n",
    "add_absolute_timestamp(df_server_single, df_meta[\"start_time\"].min())\n",
    "add_absolute_timestamp(df_server_multi, df_meta[\"start_time\"].min())\n",
    "\n",
    "add_absolute_timestamp(df_service_single, df_meta[\"start_time\"].min())\n",
    "add_absolute_timestamp(df_service_multi, df_meta[\"start_time\"].min())"
   ]
  },
  {
   "cell_type": "code",
   "execution_count": 90,
   "id": "a9a61332",
   "metadata": {},
   "outputs": [
    {
     "data": {
      "text/plain": [
       "1080"
      ]
     },
     "execution_count": 90,
     "metadata": {},
     "output_type": "execute_result"
    }
   ],
   "source": [
    "len(df_service_single)"
   ]
  },
  {
   "cell_type": "code",
   "execution_count": 91,
   "id": "e1d01f85",
   "metadata": {},
   "outputs": [
    {
     "data": {
      "text/plain": [
       "1970-01-01 02:00:00+00:00    1\n",
       "1970-03-02 12:00:00+00:00    1\n",
       "1970-03-01 08:00:00+00:00    1\n",
       "1970-03-01 10:00:00+00:00    1\n",
       "1970-03-01 12:00:00+00:00    1\n",
       "                            ..\n",
       "1970-01-31 12:00:00+00:00    1\n",
       "1970-01-31 14:00:00+00:00    1\n",
       "1970-01-31 16:00:00+00:00    1\n",
       "1970-01-31 18:00:00+00:00    1\n",
       "1970-04-01 00:00:00+00:00    1\n",
       "Name: timestamp, Length: 1080, dtype: int64"
      ]
     },
     "execution_count": 91,
     "metadata": {},
     "output_type": "execute_result"
    }
   ],
   "source": [
    "df_host_single.timestamp.value_counts()"
   ]
  },
  {
   "cell_type": "code",
   "execution_count": 103,
   "id": "5b36f79c",
   "metadata": {},
   "outputs": [
    {
     "data": {
      "text/plain": [
       "array([50, 49, 47, 46, 45, 44, 34, 16, 14, 13, 12, 11, 10])"
      ]
     },
     "execution_count": 103,
     "metadata": {},
     "output_type": "execute_result"
    }
   ],
   "source": [
    "df_server_single.timestamp.value_counts().unique()"
   ]
  },
  {
   "cell_type": "code",
   "execution_count": 93,
   "id": "699268f3",
   "metadata": {},
   "outputs": [
    {
     "data": {
      "text/plain": [
       "1970-01-01 02:00:00+00:00    1\n",
       "1970-03-02 12:00:00+00:00    1\n",
       "1970-03-01 08:00:00+00:00    1\n",
       "1970-03-01 10:00:00+00:00    1\n",
       "1970-03-01 12:00:00+00:00    1\n",
       "                            ..\n",
       "1970-01-31 12:00:00+00:00    1\n",
       "1970-01-31 14:00:00+00:00    1\n",
       "1970-01-31 16:00:00+00:00    1\n",
       "1970-01-31 18:00:00+00:00    1\n",
       "1970-04-01 00:00:00+00:00    1\n",
       "Name: timestamp, Length: 1080, dtype: int64"
      ]
     },
     "execution_count": 93,
     "metadata": {},
     "output_type": "execute_result"
    }
   ],
   "source": [
    "df_service_single.timestamp.value_counts()"
   ]
  },
  {
   "cell_type": "code",
   "execution_count": 104,
   "id": "a32f9d66",
   "metadata": {},
   "outputs": [
    {
     "data": {
      "text/plain": [
       "array([44, 45, 46, 47, 49, 50, 34, 16, 14, 13, 12, 11, 10], dtype=int32)"
      ]
     },
     "execution_count": 104,
     "metadata": {},
     "output_type": "execute_result"
    }
   ],
   "source": [
    "(df_service_single.servers_active + df_service_single.servers_pending).unique() "
   ]
  },
  {
   "cell_type": "code",
   "execution_count": 102,
   "id": "fe5cc9c0",
   "metadata": {},
   "outputs": [
    {
     "data": {
      "text/plain": [
       "True"
      ]
     },
     "execution_count": 102,
     "metadata": {},
     "output_type": "execute_result"
    }
   ],
   "source": [
    "set(d1) == set(d2)"
   ]
  },
  {
   "cell_type": "markdown",
   "id": "09d31c91",
   "metadata": {},
   "source": [
    "## Power Usage"
   ]
  },
  {
   "cell_type": "code",
   "execution_count": 66,
   "id": "82f0a24a",
   "metadata": {},
   "outputs": [
    {
     "name": "stdout",
     "output_type": "stream",
     "text": [
      "single topology:  2227322672.880138\n",
      "multi topology:   5865185988.6738405\n"
     ]
    }
   ],
   "source": [
    "print(f\"single topology:  {df_host_single.power_total.sum()}\")\n",
    "print(f\"multi topology:   {df_host_multi.power_total.sum()}\")"
   ]
  },
  {
   "cell_type": "markdown",
   "id": "7ab3357d",
   "metadata": {},
   "source": [
    "## CPU usage"
   ]
  },
  {
   "cell_type": "code",
   "execution_count": 67,
   "id": "e94db3a6",
   "metadata": {},
   "outputs": [
    {
     "name": "stdout",
     "output_type": "stream",
     "text": [
      "single topology:  0.575979511557793\n",
      "multi topology:   0.34249306908883387\n"
     ]
    }
   ],
   "source": [
    "print(f\"single topology:  {df_host_single.cpu_utilization.mean()}\")\n",
    "print(f\"multi topology:   {df_host_multi.cpu_utilization.mean()}\")"
   ]
  },
  {
   "cell_type": "markdown",
   "id": "e000a260",
   "metadata": {},
   "source": [
    "## CPU utilization"
   ]
  },
  {
   "cell_type": "code",
   "execution_count": 68,
   "id": "8d7daa45",
   "metadata": {},
   "outputs": [
    {
     "name": "stdout",
     "output_type": "stream",
     "text": [
      "single topology:  0.575979511557793\n",
      "multi topology:   0.34249306908883387\n"
     ]
    }
   ],
   "source": [
    "print(f\"single topology:  {df_host_single.cpu_utilization.mean()}\")\n",
    "print(f\"multi topology:   {df_host_multi.cpu_utilization.mean()}\")"
   ]
  },
  {
   "cell_type": "markdown",
   "id": "ad97741c",
   "metadata": {},
   "source": [
    "## Plotting Results"
   ]
  },
  {
   "cell_type": "code",
   "execution_count": 69,
   "id": "5df8f9aa",
   "metadata": {},
   "outputs": [
    {
     "data": {
      "image/png": "[encoded data removed]",
      "text/plain": [
       "<Figure size 640x480 with 1 Axes>"
      ]
     },
     "metadata": {},
     "output_type": "display_data"
    }
   ],
   "source": [
    "data = df_host_multi.cpu_utilization\n",
    "plt.hist(data, weights=np.ones_like(data) / len(data),\n",
    "         alpha=0.7, label=\"multi\", bins=30)\n",
    "\n",
    "\n",
    "data = df_host_single.cpu_utilization\n",
    "plt.hist(data, weights=np.ones_like(data) / len(data),\n",
    "         alpha=0.7, label=\"single\", bins=30)\n",
    "\n",
    "plt.xlabel(\"CPU utilization\")\n",
    "plt.ylabel(\"Frequency\")\n",
    "plt.legend()\n",
    "plt.show()"
   ]
  },
  {
   "cell_type": "code",
   "execution_count": 105,
   "id": "42c0c638",
   "metadata": {},
   "outputs": [
    {
     "data": {
      "text/plain": [
       "<matplotlib.legend.Legend at 0x7f6fc2d09510>"
      ]
     },
     "execution_count": 105,
     "metadata": {},
     "output_type": "execute_result"
    },
    {
     "data": {
      "image/png": "[encoded data removed]",
      "text/plain": [
       "<Figure size 640x480 with 1 Axes>"
      ]
     },
     "metadata": {},
     "output_type": "display_data"
    }
   ],
   "source": [
    "import matplotlib.pyplot as plt\n",
    "\n",
    "plt.plot(df_service_single.servers_pending, label=\"servers pending\")\n",
    "plt.plot(df_service_single.servers_active, label=\"servers active\")\n",
    "\n",
    "plt.legend()"
   ]
  },
  {
   "cell_type": "code",
   "execution_count": 106,
   "id": "1a688c2d",
   "metadata": {},
   "outputs": [
    {
     "data": {
      "text/plain": [
       "<matplotlib.legend.Legend at 0x7f6fc2cc7ca0>"
      ]
     },
     "execution_count": 106,
     "metadata": {},
     "output_type": "execute_result"
    },
    {
     "data": {
      "image/png": "[encoded data removed]",
      "text/plain": [
       "<Figure size 640x480 with 1 Axes>"
      ]
     },
     "metadata": {},
     "output_type": "display_data"
    }
   ],
   "source": [
    "import matplotlib.pyplot as plt\n",
    "\n",
    "plt.plot(df_service_multi.servers_pending, label=\"servers pending\")\n",
    "plt.plot(df_service_multi.servers_active, label=\"servers active\")\n",
    "\n",
    "plt.legend()"
   ]
  },
  {
   "cell_type": "code",
   "execution_count": 117,
   "id": "dc4e17cd",
   "metadata": {},
   "outputs": [
    {
     "data": {
      "text/html": [
       "<div>\n",
       "<style scoped>\n",
       "    .dataframe tbody tr th:only-of-type {\n",
       "        vertical-align: middle;\n",
       "    }\n",
       "\n",
       "    .dataframe tbody tr th {\n",
       "        vertical-align: top;\n",
       "    }\n",
       "\n",
       "    .dataframe thead th {\n",
       "        text-align: right;\n",
       "    }\n",
       "</style>\n",
       "<table border=\"1\" class=\"dataframe\">\n",
       "  <thead>\n",
       "    <tr style=\"text-align: right;\">\n",
       "      <th></th>\n",
       "      <th>timestamp</th>\n",
       "      <th>host_id</th>\n",
       "      <th>cpu_count</th>\n",
       "      <th>mem_capacity</th>\n",
       "      <th>guests_terminated</th>\n",
       "      <th>guests_running</th>\n",
       "      <th>guests_error</th>\n",
       "      <th>guests_invalid</th>\n",
       "      <th>cpu_limit</th>\n",
       "      <th>cpu_usage</th>\n",
       "      <th>...</th>\n",
       "      <th>cpu_utilization</th>\n",
       "      <th>cpu_time_active</th>\n",
       "      <th>cpu_time_idle</th>\n",
       "      <th>cpu_time_steal</th>\n",
       "      <th>cpu_time_lost</th>\n",
       "      <th>power_total</th>\n",
       "      <th>uptime</th>\n",
       "      <th>downtime</th>\n",
       "      <th>boot_time</th>\n",
       "      <th>absolute_timestamp</th>\n",
       "    </tr>\n",
       "  </thead>\n",
       "  <tbody>\n",
       "    <tr>\n",
       "      <th>0</th>\n",
       "      <td>1970-01-01 02:00:00+00:00</td>\n",
       "      <td>b'\\xe2 \\xa89{\\x1d\\xcd\\xaf\\x00\\x00\\x00\\x00\\x00\\...</td>\n",
       "      <td>8</td>\n",
       "      <td>128000</td>\n",
       "      <td>0</td>\n",
       "      <td>15</td>\n",
       "      <td>0</td>\n",
       "      <td>0</td>\n",
       "      <td>25600.0</td>\n",
       "      <td>9446.762695</td>\n",
       "      <td>...</td>\n",
       "      <td>0.369014</td>\n",
       "      <td>13838</td>\n",
       "      <td>43761</td>\n",
       "      <td>1008</td>\n",
       "      <td>0</td>\n",
       "      <td>1.699475e+06</td>\n",
       "      <td>7200000</td>\n",
       "      <td>0</td>\n",
       "      <td>1970-01-01 00:00:00+00:00</td>\n",
       "      <td>2013-08-12 13:35:46+00:00</td>\n",
       "    </tr>\n",
       "    <tr>\n",
       "      <th>1</th>\n",
       "      <td>1970-01-01 04:00:00+00:00</td>\n",
       "      <td>b'\\xe2 \\xa89{\\x1d\\xcd\\xaf\\x00\\x00\\x00\\x00\\x00\\...</td>\n",
       "      <td>8</td>\n",
       "      <td>128000</td>\n",
       "      <td>0</td>\n",
       "      <td>15</td>\n",
       "      <td>0</td>\n",
       "      <td>0</td>\n",
       "      <td>25600.0</td>\n",
       "      <td>25600.000000</td>\n",
       "      <td>...</td>\n",
       "      <td>1.000000</td>\n",
       "      <td>57592</td>\n",
       "      <td>8</td>\n",
       "      <td>73720</td>\n",
       "      <td>0</td>\n",
       "      <td>2.519850e+06</td>\n",
       "      <td>7200000</td>\n",
       "      <td>0</td>\n",
       "      <td>1970-01-01 00:00:00+00:00</td>\n",
       "      <td>2013-08-12 15:35:46+00:00</td>\n",
       "    </tr>\n",
       "    <tr>\n",
       "      <th>2</th>\n",
       "      <td>1970-01-01 06:00:00+00:00</td>\n",
       "      <td>b'\\xe2 \\xa89{\\x1d\\xcd\\xaf\\x00\\x00\\x00\\x00\\x00\\...</td>\n",
       "      <td>8</td>\n",
       "      <td>128000</td>\n",
       "      <td>0</td>\n",
       "      <td>15</td>\n",
       "      <td>0</td>\n",
       "      <td>0</td>\n",
       "      <td>25600.0</td>\n",
       "      <td>25600.000000</td>\n",
       "      <td>...</td>\n",
       "      <td>1.000000</td>\n",
       "      <td>57600</td>\n",
       "      <td>0</td>\n",
       "      <td>81518</td>\n",
       "      <td>0</td>\n",
       "      <td>2.520000e+06</td>\n",
       "      <td>7200000</td>\n",
       "      <td>0</td>\n",
       "      <td>1970-01-01 00:00:00+00:00</td>\n",
       "      <td>2013-08-12 17:35:46+00:00</td>\n",
       "    </tr>\n",
       "    <tr>\n",
       "      <th>3</th>\n",
       "      <td>1970-01-01 08:00:00+00:00</td>\n",
       "      <td>b'\\xe2 \\xa89{\\x1d\\xcd\\xaf\\x00\\x00\\x00\\x00\\x00\\...</td>\n",
       "      <td>8</td>\n",
       "      <td>128000</td>\n",
       "      <td>0</td>\n",
       "      <td>15</td>\n",
       "      <td>0</td>\n",
       "      <td>0</td>\n",
       "      <td>25600.0</td>\n",
       "      <td>25600.000000</td>\n",
       "      <td>...</td>\n",
       "      <td>1.000000</td>\n",
       "      <td>57592</td>\n",
       "      <td>8</td>\n",
       "      <td>73134</td>\n",
       "      <td>0</td>\n",
       "      <td>2.519850e+06</td>\n",
       "      <td>7200000</td>\n",
       "      <td>0</td>\n",
       "      <td>1970-01-01 00:00:00+00:00</td>\n",
       "      <td>2013-08-12 19:35:46+00:00</td>\n",
       "    </tr>\n",
       "    <tr>\n",
       "      <th>4</th>\n",
       "      <td>1970-01-01 10:00:00+00:00</td>\n",
       "      <td>b'\\xe2 \\xa89{\\x1d\\xcd\\xaf\\x00\\x00\\x00\\x00\\x00\\...</td>\n",
       "      <td>8</td>\n",
       "      <td>128000</td>\n",
       "      <td>0</td>\n",
       "      <td>15</td>\n",
       "      <td>0</td>\n",
       "      <td>0</td>\n",
       "      <td>25600.0</td>\n",
       "      <td>25600.000000</td>\n",
       "      <td>...</td>\n",
       "      <td>1.000000</td>\n",
       "      <td>57592</td>\n",
       "      <td>8</td>\n",
       "      <td>74832</td>\n",
       "      <td>0</td>\n",
       "      <td>2.519850e+06</td>\n",
       "      <td>7200000</td>\n",
       "      <td>0</td>\n",
       "      <td>1970-01-01 00:00:00+00:00</td>\n",
       "      <td>2013-08-12 21:35:46+00:00</td>\n",
       "    </tr>\n",
       "  </tbody>\n",
       "</table>\n",
       "<p>5 rows × 21 columns</p>\n",
       "</div>"
      ],
      "text/plain": [
       "                  timestamp  \\\n",
       "0 1970-01-01 02:00:00+00:00   \n",
       "1 1970-01-01 04:00:00+00:00   \n",
       "2 1970-01-01 06:00:00+00:00   \n",
       "3 1970-01-01 08:00:00+00:00   \n",
       "4 1970-01-01 10:00:00+00:00   \n",
       "\n",
       "                                             host_id  cpu_count  mem_capacity  \\\n",
       "0  b'\\xe2 \\xa89{\\x1d\\xcd\\xaf\\x00\\x00\\x00\\x00\\x00\\...          8        128000   \n",
       "1  b'\\xe2 \\xa89{\\x1d\\xcd\\xaf\\x00\\x00\\x00\\x00\\x00\\...          8        128000   \n",
       "2  b'\\xe2 \\xa89{\\x1d\\xcd\\xaf\\x00\\x00\\x00\\x00\\x00\\...          8        128000   \n",
       "3  b'\\xe2 \\xa89{\\x1d\\xcd\\xaf\\x00\\x00\\x00\\x00\\x00\\...          8        128000   \n",
       "4  b'\\xe2 \\xa89{\\x1d\\xcd\\xaf\\x00\\x00\\x00\\x00\\x00\\...          8        128000   \n",
       "\n",
       "   guests_terminated  guests_running  guests_error  guests_invalid  cpu_limit  \\\n",
       "0                  0              15             0               0    25600.0   \n",
       "1                  0              15             0               0    25600.0   \n",
       "2                  0              15             0               0    25600.0   \n",
       "3                  0              15             0               0    25600.0   \n",
       "4                  0              15             0               0    25600.0   \n",
       "\n",
       "      cpu_usage  ...  cpu_utilization  cpu_time_active  cpu_time_idle  \\\n",
       "0   9446.762695  ...         0.369014            13838          43761   \n",
       "1  25600.000000  ...         1.000000            57592              8   \n",
       "2  25600.000000  ...         1.000000            57600              0   \n",
       "3  25600.000000  ...         1.000000            57592              8   \n",
       "4  25600.000000  ...         1.000000            57592              8   \n",
       "\n",
       "   cpu_time_steal  cpu_time_lost   power_total   uptime  downtime  \\\n",
       "0            1008              0  1.699475e+06  7200000         0   \n",
       "1           73720              0  2.519850e+06  7200000         0   \n",
       "2           81518              0  2.520000e+06  7200000         0   \n",
       "3           73134              0  2.519850e+06  7200000         0   \n",
       "4           74832              0  2.519850e+06  7200000         0   \n",
       "\n",
       "                  boot_time        absolute_timestamp  \n",
       "0 1970-01-01 00:00:00+00:00 2013-08-12 13:35:46+00:00  \n",
       "1 1970-01-01 00:00:00+00:00 2013-08-12 15:35:46+00:00  \n",
       "2 1970-01-01 00:00:00+00:00 2013-08-12 17:35:46+00:00  \n",
       "3 1970-01-01 00:00:00+00:00 2013-08-12 19:35:46+00:00  \n",
       "4 1970-01-01 00:00:00+00:00 2013-08-12 21:35:46+00:00  \n",
       "\n",
       "[5 rows x 21 columns]"
      ]
     },
     "execution_count": 117,
     "metadata": {},
     "output_type": "execute_result"
    }
   ],
   "source": [
    "df_host_single.head()"
   ]
  },
  {
   "cell_type": "code",
   "execution_count": 120,
   "id": "b0e6c7bf",
   "metadata": {},
   "outputs": [
    {
     "data": {
      "text/plain": [
       "[]"
      ]
     },
     "execution_count": 120,
     "metadata": {},
     "output_type": "execute_result"
    }
   ],
   "source": [
    "utilization = df_host_single.cpu_utilization.to_numpy()"
   ]
  },
  {
   "cell_type": "code",
   "execution_count": 122,
   "id": "aea7b79d",
   "metadata": {},
   "outputs": [
    {
     "data": {
      "text/plain": [
       "[<matplotlib.lines.Line2D at 0x7f6f870ccfa0>]"
      ]
     },
     "execution_count": 122,
     "metadata": {},
     "output_type": "execute_result"
    },
    {
     "data": {
      "image/png": "[encoded data removed]",
      "text/plain": [
       "<Figure size 640x480 with 1 Axes>"
      ]
     },
     "metadata": {},
     "output_type": "display_data"
    }
   ],
   "source": [
    "window = 100\n",
    "avg_utilization = []\n",
    "\n",
    "for ind in range(len(utilization) - window + 1):\n",
    "    avg_utilization.append(np.mean(utilization[ind:ind+window]))\n",
    "    \n",
    "plt.plot(avg_utilization)"
   ]
  },
  {
   "cell_type": "code",
   "execution_count": 47,
   "id": "575f824b",
   "metadata": {},
   "outputs": [],
   "source": [
    "sum_util = []\n",
    "\n",
    "last_util = 0\n",
    "for util in utilization:\n",
    "    sum_util.append(util + last_util)\n",
    "    last_util = sum_util[-1]"
   ]
  },
  {
   "cell_type": "code",
   "execution_count": 49,
   "id": "94d64f88",
   "metadata": {},
   "outputs": [
    {
     "data": {
      "text/plain": [
       "[<matplotlib.lines.Line2D at 0x7fd9366b70d0>]"
      ]
     },
     "execution_count": 49,
     "metadata": {},
     "output_type": "execute_result"
    },
    {
     "data": {
      "image/png": "[encoded data removed]",
      "text/plain": [
       "<Figure size 640x480 with 1 Axes>"
      ]
     },
     "metadata": {},
     "output_type": "display_data"
    }
   ],
   "source": [
    "plt.plot(sum_util)"
   ]
  },
  {
   "cell_type": "code",
   "execution_count": null,
   "id": "7962b16f",
   "metadata": {},
   "outputs": [],
   "source": [
    "output_file = \"../Python_scripts/meta_small.parquet\"\n",
    "output_file_path = Path(output_file)\n",
    "\n",
    "df_meta_new.to_parquet(output_file_path, index=False)\n",
    "\n",
    "output_file = \"../Python_scripts/trace_small.parquet\"\n",
    "output_file_path = Path(output_file)\n",
    "df_trace_new.to_parquet(output_file_path, index=False)"
   ]
  }
 ],
 "metadata": {
  "kernelspec": {
   "display_name": "Python 3 (ipykernel)",
   "language": "python",
   "name": "python3"
  },
  "language_info": {
   "codemirror_mode": {
    "name": "ipython",
    "version": 3
   },
   "file_extension": ".py",
   "mimetype": "text/x-python",
   "name": "python",
   "nbconvert_exporter": "python",
   "pygments_lexer": "ipython3",
   "version": "3.10.12"
  }
 },
 "nbformat": 4,
 "nbformat_minor": 5
}
